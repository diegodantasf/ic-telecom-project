{
 "cells": [
  {
   "cell_type": "code",
   "execution_count": null,
   "metadata": {},
   "outputs": [],
   "source": [
    "# Clone the repository if running in Colab and install all the dependencies\n",
    "if 'google.colab' in str(get_ipython()):\n",
    "    import sys\n",
    "    import os\n",
    "    try:\n",
    "      !git clone https://github.com/lasseufpa/ml4comm-icc21.git\n",
    "    except:\n",
    "      print(\"ml4comm-icc21 is already in the contents\")\n",
    "    !pip install -r /content/ml4comm-icc21/requirements.txt  &>/dev/null\n",
    "    sys.path.append(os.path.abspath('/content/ml4comm-icc21'))"
   ]
  },
  {
   "cell_type": "code",
   "execution_count": null,
   "metadata": {},
   "outputs": [],
   "source": [
    "import sys\n",
    "import os\n",
    "\n",
    "import matplotlib\n",
    "import matplotlib.pyplot as plt\n",
    "import matplotlib.cm as cm\n",
    "import seaborn as sns\n",
    "import pandas as pd\n",
    "import numpy as np\n",
    "\n",
    "from commpy.channels import SISOFlatChannel\n",
    "\n",
    "sys.path.append(os.path.abspath('ml4comm'))\n",
    "from ml4comm.qam_awgn import generate_symbols\n",
    "from ml4comm.qam_analyzer import plot_decision_boundary, ser, plot_confusion_matrix\n",
    "import my_utils\n",
    "\n",
    "np.random.seed(42) # Important"
   ]
  },
  {
   "cell_type": "code",
   "execution_count": null,
   "metadata": {
    "scrolled": true
   },
   "outputs": [],
   "source": [
    "def main():\n",
    "    my_utils.evaluate_model('decision_tree')\n",
    "\n",
    "if __name__ == '__main__':\n",
    "    main()"
   ]
  },
  {
   "cell_type": "code",
   "execution_count": null,
   "metadata": {},
   "outputs": [],
   "source": []
  }
 ],
 "metadata": {
  "interpreter": {
   "hash": "d1c109cf98b93b3f11d43ae76f262bc21a9a38efa0b58f65883a30819c88895e"
  },
  "kernelspec": {
   "display_name": "Python 3 (ipykernel)",
   "language": "python",
   "name": "python3"
  },
  "language_info": {
   "codemirror_mode": {
    "name": "ipython",
    "version": 3
   },
   "file_extension": ".py",
   "mimetype": "text/x-python",
   "name": "python",
   "nbconvert_exporter": "python",
   "pygments_lexer": "ipython3",
   "version": "3.8.13"
  }
 },
 "nbformat": 4,
 "nbformat_minor": 2
}
