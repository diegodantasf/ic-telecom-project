{
 "cells": [
  {
   "cell_type": "code",
   "execution_count": null,
   "metadata": {},
   "outputs": [
    {
     "ename": "",
     "evalue": "",
     "output_type": "error",
     "traceback": [
      "\u001b[1;31mRunning cells with 'Python 3.8.13 ('ic_1')' requires ipykernel package.\n",
      "Run the following command to install 'ipykernel' into the Python environment. \n",
      "Command: 'conda install -n ic_1 ipykernel --update-deps --force-reinstall'"
     ]
    }
   ],
   "source": [
    "# Clone the repository if running in Colab and install all the dependencies\n",
    "if 'google.colab' in str(get_ipython()):\n",
    "    import sys\n",
    "    import os\n",
    "    try:\n",
    "      !git clone https://github.com/lasseufpa/ml4comm-icc21.git\n",
    "    except:\n",
    "      print(\"ml4comm-icc21 is already in the contents\")\n",
    "    !pip install -r /content/ml4comm-icc21/requirements.txt  &>/dev/null\n",
    "    sys.path.append(os.path.abspath('/content/ml4comm-icc21'))"
   ]
  },
  {
   "cell_type": "code",
   "execution_count": null,
   "metadata": {},
   "outputs": [],
   "source": [
    "import sys\n",
    "import os\n",
    "\n",
    "import matplotlib\n",
    "import matplotlib.pyplot as plt\n",
    "import matplotlib.cm as cm\n",
    "import seaborn as sns\n",
    "import pandas as pd\n",
    "import numpy as np\n",
    "\n",
    "from commpy.channels import SISOFlatChannel\n",
    "\n",
    "sys.path.append(os.path.abspath('ml4comm'))\n",
    "from ml4comm.ml4comm.qam_awgn import generate_symbols\n",
    "\n",
    "np.random.seed(2) # Important\n",
    "\n",
    "def generate_dataset():\n",
    "    M            = 16      # QAM modulation\n",
    "    num_symbols  = 6000    # Number of transmitted symbols\n",
    "    SNR_dB       = 15      # Signal to noise ratio in dB     \n",
    "    code_rate    = 1       # Rate of the used code\n",
    "    Es           = 1       # Average symbol energy\n",
    "\n",
    "    # Generate the QAM symbols\n",
    "    symbs, indices = generate_symbols(num_symbols, M)\n",
    "\n",
    "    channel = SISOFlatChannel(None, (1 + 0j, 0j))\n",
    "    channel.set_SNR_dB(SNR_dB, float(code_rate), Es)\n",
    "    channel_output = channel.propagate(symbs)\n",
    "\n",
    "    # Train\n",
    "    train_size = int(0.5*len(indices))\n",
    "    y_train = indices[:train_size]\n",
    "    X_train = np.stack([np.real(channel_output[:train_size]),\n",
    "                        np.imag(channel_output[:train_size])], axis=1)\n",
    "\n",
    "    # Test\n",
    "    y_test = indices[train_size:]\n",
    "    X_test = np.stack([np.real(channel_output[train_size:]),\n",
    "                    np.imag(channel_output[train_size:])], axis=1)\n",
    "\n",
    "    return [(X_train, y_train), (X_test, y_test)]\n",
    "\n",
    "# get n samples from dataset (assume dataset already shuffled)\n",
    "def get_n_samples(dataset_train, n):\n",
    "    return (dataset_train[0][:n], dataset_train[1][:n])\n",
    "\n",
    "def main():\n",
    "    dataset_train, dataset_test = generate_dataset() # Dataset shuffled\n",
    "    dataset_test_10 = get_n_samples(dataset_train, 10)\n",
    "\n",
    "if __name__ == '__main__':\n",
    "    main()\n"
   ]
  }
 ],
 "metadata": {
  "interpreter": {
   "hash": "d1c109cf98b93b3f11d43ae76f262bc21a9a38efa0b58f65883a30819c88895e"
  },
  "kernelspec": {
   "display_name": "Python 3.8.13 ('ic_1')",
   "language": "python",
   "name": "python3"
  },
  "language_info": {
   "name": "python",
   "version": "3.8.13"
  },
  "orig_nbformat": 4
 },
 "nbformat": 4,
 "nbformat_minor": 2
}
