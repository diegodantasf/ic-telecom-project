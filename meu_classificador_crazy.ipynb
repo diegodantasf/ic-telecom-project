{
 "cells": [
  {
   "cell_type": "code",
   "execution_count": null,
   "metadata": {},
   "outputs": [],
   "source": [
    "# Clone the repository if running in Colab and install all the dependencies\n",
    "if 'google.colab' in str(get_ipython()):\n",
    "    import sys\n",
    "    import os\n",
    "    try:\n",
    "      !git clone https://github.com/lasseufpa/ml4comm-icc21.git\n",
    "    except:\n",
    "      print(\"ml4comm-icc21 is already in the contents\")\n",
    "    !pip install -r /content/ml4comm-icc21/requirements.txt  &>/dev/null\n",
    "    !pip install imbalanced &>/dev/null\n",
    "    sys.path.append(os.path.abspath('/content/ml4comm-icc21'))"
   ]
  },
  {
   "cell_type": "code",
   "execution_count": null,
   "metadata": {},
   "outputs": [],
   "source": [
    "import sys\n",
    "import os\n",
    "\n",
    "import matplotlib\n",
    "import matplotlib.pyplot as plt\n",
    "import matplotlib.cm as cm\n",
    "import seaborn as sns\n",
    "import pandas as pd\n",
    "import numpy as np\n",
    "\n",
    "from commpy.channels import SISOFlatChannel\n",
    "\n",
    "sys.path.append(os.path.abspath('ml4comm'))\n",
    "from ml4comm.qam_awgn import generate_symbols\n",
    "from ml4comm.qam_crazy import crazy_channel_propagate\n",
    "from ml4comm.qam_analyzer import plot_decision_boundary, ser, plot_confusion_matrix\n",
    "\n",
    "np.random.seed(52) # Important"
   ]
  },
  {
   "cell_type": "code",
   "execution_count": null,
   "metadata": {},
   "outputs": [],
   "source": [
    "from imblearn.under_sampling import RandomUnderSampler\n",
    "\n",
    "class Dataset:\n",
    "    def __init__(self, channel_type='awgn'):\n",
    "        self.M            = 16      # QAM modulation\n",
    "        self.num_symbols  = 6000    # Number of transmitted symbols\n",
    "        self.SNR_dB       = 15      # Signal to noise ratio in dB     \n",
    "        self.code_rate    = 1       # Rate of the used code\n",
    "        self.Es           = 1       # Average symbol energy\n",
    "        \n",
    "        # Generate the QAM symbols\n",
    "        symbs, indices = generate_symbols(self.num_symbols, self.M)\n",
    "        \n",
    "        if channel_type == 'awgn':\n",
    "          channel = SISOFlatChannel(None, (1 + 0j, 0j))\n",
    "          channel.set_SNR_dB(self.SNR_dB, float(self.code_rate), self.Es)\n",
    "          channel_output = channel.propagate(symbs)\n",
    "        elif channel_type == 'crazy':\n",
    "          channel_output = crazy_channel_propagate(symbs, self.SNR_dB)\n",
    "        else:\n",
    "          raise Exception(\"Channel type must be 'awgn' or 'crazy'\")\n",
    "          \n",
    "      \n",
    "        # Train\n",
    "        self.train_size = int(0.5*len(indices))\n",
    "        self.y_train = indices[:self.train_size]\n",
    "        self.X_train = np.stack([np.real(channel_output[:self.train_size]),\n",
    "                            np.imag(channel_output[:self.train_size])], axis=1)\n",
    "      \n",
    "        # Test\n",
    "        self.y_test = indices[self.train_size:]\n",
    "        self.X_test = np.stack([np.real(channel_output[self.train_size:]),\n",
    "          np.imag(channel_output[self.train_size:])], axis=1)\n",
    "  \n",
    "    def get_train_dataset(self, n_samples=3000):\n",
    "        if n_samples > 3000:\n",
    "            raise Exception(\"Max size is 3000\")\n",
    "        # if n_samples // self.M < 5:\n",
    "        #   raise Exception(\"Less than 5 samples for each class, set n_samples = self.M * 5 at least\")\n",
    "        \n",
    "        rus = RandomUnderSampler(sampling_strategy = {c:n_samples//self.M for c in range(self.M)}, random_state=52)\n",
    "        try:\n",
    "            return rus.fit_resample(self.X_train, self.y_train)\n",
    "        except ValueError:\n",
    "            return (self.X_train[:n_samples], self.y_train[:n_samples])\n",
    "        \n",
    "    def get_test_dataset(self):\n",
    "        return (self.X_test, self.y_test)"
   ]
  },
  {
   "cell_type": "code",
   "execution_count": null,
   "metadata": {},
   "outputs": [],
   "source": [
    "from sklearn.naive_bayes import GaussianNB\n",
    "\n",
    "def get_classifier(X_train, y_train):\n",
    "    clf = GaussianNB(var_smoothing=0.02)\n",
    "    return clf.fit(X_train, y_train)"
   ]
  },
  {
   "cell_type": "code",
   "execution_count": null,
   "metadata": {},
   "outputs": [],
   "source": [
    "ds = Dataset(channel_type='crazy')\n",
    "X_train, y_train = ds.get_train_dataset(n_samples=64)\n",
    "X_test, y_test = ds.get_test_dataset()\n",
    "clf = get_classifier(X_train, y_train)"
   ]
  },
  {
   "cell_type": "code",
   "execution_count": null,
   "metadata": {
    "scrolled": true
   },
   "outputs": [],
   "source": [
    "plot_decision_boundary(clf, X_train, y_train, legend=True)\n",
    "plot_confusion_matrix(clf, X_test, y_test, ds.M)"
   ]
  },
  {
   "cell_type": "code",
   "execution_count": null,
   "metadata": {},
   "outputs": [],
   "source": [
    "clf_ser = ser(clf, X_test, y_test)\n",
    "print(f'(Test set) Gaussian Naive Bayes:\\n SER:\\t {clf_ser:.2%}')"
   ]
  },
  {
   "cell_type": "code",
   "execution_count": null,
   "metadata": {},
   "outputs": [],
   "source": [
    "clf_ser = ser(clf, X_train, y_train)\n",
    "print(f'(Train set) Gaussian Naive Bayes:\\n SER:\\t {clf_ser:.2%}')"
   ]
  }
 ],
 "metadata": {
  "interpreter": {
   "hash": "d1c109cf98b93b3f11d43ae76f262bc21a9a38efa0b58f65883a30819c88895e"
  },
  "kernelspec": {
   "display_name": "Python 3 (ipykernel)",
   "language": "python",
   "name": "python3"
  },
  "language_info": {
   "codemirror_mode": {
    "name": "ipython",
    "version": 3
   },
   "file_extension": ".py",
   "mimetype": "text/x-python",
   "name": "python",
   "nbconvert_exporter": "python",
   "pygments_lexer": "ipython3",
   "version": "3.8.13"
  }
 },
 "nbformat": 4,
 "nbformat_minor": 2
}
