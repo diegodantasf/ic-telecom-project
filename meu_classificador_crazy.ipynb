{
 "cells": [
  {
   "cell_type": "code",
   "execution_count": null,
   "metadata": {},
   "outputs": [],
   "source": [
    "# Clone the repository if running in Colab and install all the dependencies\n",
    "if 'google.colab' in str(get_ipython()):\n",
    "    import sys\n",
    "    import os\n",
    "    try:\n",
    "      !git clone https://github.com/lasseufpa/ml4comm-icc21.git\n",
    "    except:\n",
    "      print(\"ml4comm-icc21 is already in the contents\")\n",
    "    !pip install -r /content/ml4comm-icc21/requirements.txt  &>/dev/null\n",
    "    sys.path.append(os.path.abspath('/content/ml4comm-icc21'))\n"
   ]
  },
  {
   "cell_type": "code",
   "execution_count": null,
   "metadata": {},
   "outputs": [],
   "source": [
    "import sys\n",
    "import os\n",
    "\n",
    "import matplotlib\n",
    "import matplotlib.pyplot as plt\n",
    "import matplotlib.cm as cm\n",
    "import seaborn as sns\n",
    "import pandas as pd\n",
    "import numpy as np\n",
    "\n",
    "sys.path.append(os.path.abspath('ml4comm'))\n",
    "from ml4comm.qam_awgn import generate_symbols\n",
    "from ml4comm.qam_crazy import crazy_channel_propagate\n",
    "\n",
    "np.random.seed(2) # Important\n",
    "\n",
    "def generate_dataset():\n",
    "    M            = 16      # QAM modulation\n",
    "    num_symbols  = 6000    # Number of transmitted symbols\n",
    "    SNR_dB       = 15      # Signal to noise ratio in dB     \n",
    "    code_rate    = 1       # Rate of the used code\n",
    "    Es           = 1       # Average symbol energy\n",
    "\n",
    "    # Generate the QAM symbols\n",
    "    symbs, indices = generate_symbols(num_symbols, M)\n",
    "\n",
    "    channel_output = crazy_channel_propagate(symbs, SNR_dB)\n",
    "\n",
    "    # Train\n",
    "    train_size = int(0.5*len(indices))\n",
    "    y_train = indices[:train_size]\n",
    "    X_train = np.stack([np.real(channel_output[:train_size]),\n",
    "                        np.imag(channel_output[:train_size])], axis=1)\n",
    "\n",
    "    # Test\n",
    "    y_test = indices[train_size:]\n",
    "    X_test = np.stack([np.real(channel_output[train_size:]),\n",
    "                    np.imag(channel_output[train_size:])], axis=1)\n",
    "\n",
    "    return [(X_train, y_train), (X_test, y_test)]\n",
    "\n",
    "# get n samples from dataset (assume dataset already shuffled)\n",
    "def get_n_samples(dataset_train, n):\n",
    "    return (dataset_train[0][:n], dataset_train[1][:n])\n",
    "\n",
    "def main():\n",
    "    dataset_train, dataset_test = generate_dataset() # Dataset shuffled\n",
    "    dataset_test_10 = get_n_samples(dataset_train, 10)\n",
    "\n",
    "if __name__ == '__main__':\n",
    "    main()\n"
   ]
  }
 ],
 "metadata": {
  "language_info": {
   "name": "python"
  },
  "orig_nbformat": 4
 },
 "nbformat": 4,
 "nbformat_minor": 2
}
